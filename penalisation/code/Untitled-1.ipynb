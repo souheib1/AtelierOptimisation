{
 "cells": [
  {
   "cell_type": "code",
   "execution_count": 8,
   "metadata": {},
   "outputs": [
    {
     "name": "stdout",
     "output_type": "stream",
     "text": [
      "[ 0.1760938 -1.757177 ]\n",
      "[ 0.15486768 -1.73625562]\n",
      "[ 0.05784773 -1.73465545]\n",
      "[ 7.36060002e-08 -1.73315169e+00]\n"
     ]
    }
   ],
   "source": [
    "import numpy as np\n",
    "from math import sqrt\n",
    "def g(x):\n",
    "    return x[1]\n",
    "#x2\n",
    "def f(x):\n",
    "    return x[0]**2+x[1]**2-3\n",
    "\n",
    "def pi(x):\n",
    "    return max(f(x),0)**2\n",
    "\n",
    "def g_c(g,pi,f,x):\n",
    "    return f(x) + c*p(x)\n",
    "\n",
    "def grad(g,pi,r,x):\n",
    "    return np.array((0,1)) + 2*c*np.array((2*x[0],2*x[1]))*pi(x)\n",
    "#gradient de g_c\n",
    "\n",
    "def n_2(x):\n",
    "    return sqrt(x[0]**2+x[1]**2)\n",
    "#calcule la norme d'un vecteur\n",
    "\n",
    "def minimize(g,pi,r,x):\n",
    "    pas = 0.01\n",
    "    while n_2(grad(g,pi,r,x))>epsilon:\n",
    "        x = x - pas*grad(g,pi,r,x)\n",
    "    return x\n",
    "#update de xk\n",
    "\n",
    "c = 1\n",
    "x = np.array((0.2,1))\n",
    "epsilon=0.1\n",
    "Niterations = 4\n",
    "#initialisations\n",
    "\n",
    "for i in range (Niterations):\n",
    "    c = 10*c\n",
    "    x = minimize(g,pi,c,x)\n",
    "    print(x)\n",
    "    "
   ]
  }
 ],
 "metadata": {
  "interpreter": {
   "hash": "e23d4dde13ac3eea55e41a706841c855adec975fe32edd7324355de7a6ddd1f2"
  },
  "kernelspec": {
   "display_name": "Python 3.7.10 64-bit ('base': conda)",
   "name": "python3"
  },
  "language_info": {
   "codemirror_mode": {
    "name": "ipython",
    "version": 3
   },
   "file_extension": ".py",
   "mimetype": "text/x-python",
   "name": "python",
   "nbconvert_exporter": "python",
   "pygments_lexer": "ipython3",
   "version": "3.7.10"
  },
  "orig_nbformat": 4
 },
 "nbformat": 4,
 "nbformat_minor": 2
}
